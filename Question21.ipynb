{
 "cells": [
  {
   "cell_type": "code",
   "execution_count": 1,
   "id": "b5047e74",
   "metadata": {},
   "outputs": [
    {
     "name": "stdout",
     "output_type": "stream",
     "text": [
      "Length: 5.0\n",
      "Slope: 1.3333333333333333\n"
     ]
    }
   ],
   "source": [
    "import math\n",
    "\n",
    "class Point:\n",
    "    def __init__(self, x=0, y=0):\n",
    "        self.x = x\n",
    "        self.y = y\n",
    "\n",
    "class Segment:\n",
    "    def __init__(self, point1, point2):\n",
    "        self.point1 = point1\n",
    "        self.point2 = point2\n",
    "\n",
    "    def length(self):\n",
    "        x1, y1 = self.point1.x, self.point1.y\n",
    "        x2, y2 = self.point2.x, self.point2.y\n",
    "        return math.sqrt((x2 - x1) ** 2 + (y2 - y1) ** 2)\n",
    "\n",
    "    def slope(self):\n",
    "        x1, y1 = self.point1.x, self.point1.y\n",
    "        x2, y2 = self.point2.x, self.point2.y\n",
    "        if x2 - x1 == 0:\n",
    "            return None  # The slope is unbounded\n",
    "        else:\n",
    "            return (y2 - y1) / (x2 - x1)\n",
    "\n",
    "# Create Point objects\n",
    "p1 = Point(3, 4)\n",
    "p2 = Point()\n",
    "\n",
    "# Create a Segment object\n",
    "s = Segment(p1, p2)\n",
    "\n",
    "# Calculate and print the length and slope\n",
    "print(\"Length:\", s.length())\n",
    "print(\"Slope:\", s.slope())\n"
   ]
  },
  {
   "cell_type": "code",
   "execution_count": 2,
   "id": "d2894f34",
   "metadata": {},
   "outputs": [],
   "source": [
    "import math"
   ]
  },
  {
   "cell_type": "code",
   "execution_count": 3,
   "id": "5856c7c9",
   "metadata": {},
   "outputs": [],
   "source": [
    "class Point:\n",
    "    def __init__(self, x = 0, y = 0):\n",
    "        self.x = x\n",
    "        self.y = y"
   ]
  },
  {
   "cell_type": "code",
   "execution_count": 52,
   "id": "550e9637",
   "metadata": {},
   "outputs": [],
   "source": [
    "class Segment:\n",
    "    def __init__(self, p1, p2):\n",
    "        self.p1 = p1\n",
    "        self.p2 = p2\n",
    "        \n",
    "    def length(self):\n",
    "        x1 = self.p1.x\n",
    "        y1 = self.p1.y\n",
    "        x2 = self.p2.x\n",
    "        y2 = self.p2.y\n",
    "        \n",
    "        point_length = math.sqrt((x2-x1) ** 2 + (y2-y1) ** 2)\n",
    "        return point_length\n",
    "        \n",
    "    def slope(self):\n",
    "        x1 = self.p1.x\n",
    "        y1 = self.p1.y\n",
    "        x2 = self.p2.x\n",
    "        y2 = self.p2.y\n",
    "        \n",
    "        if x2-x1 == 0:\n",
    "            return\n",
    "        else:\n",
    "            return ((y2-y1)/(x2-x1))    "
   ]
  },
  {
   "cell_type": "code",
   "execution_count": 53,
   "id": "5b588030",
   "metadata": {},
   "outputs": [],
   "source": [
    "p1 = Point(3,4)"
   ]
  },
  {
   "cell_type": "code",
   "execution_count": 54,
   "id": "00672a9f",
   "metadata": {},
   "outputs": [],
   "source": [
    "p2 = Point()"
   ]
  },
  {
   "cell_type": "code",
   "execution_count": 55,
   "id": "84165956",
   "metadata": {},
   "outputs": [],
   "source": [
    "s = Segment(p1,p2)"
   ]
  },
  {
   "cell_type": "code",
   "execution_count": 56,
   "id": "e2bab51c",
   "metadata": {},
   "outputs": [
    {
     "name": "stdout",
     "output_type": "stream",
     "text": [
      "5.0\n"
     ]
    }
   ],
   "source": [
    "print(s.length())"
   ]
  },
  {
   "cell_type": "code",
   "execution_count": 57,
   "id": "2ba26e8f",
   "metadata": {},
   "outputs": [
    {
     "name": "stdout",
     "output_type": "stream",
     "text": [
      "1.3333333333333333\n"
     ]
    }
   ],
   "source": [
    "print(s.slope())"
   ]
  },
  {
   "cell_type": "code",
   "execution_count": null,
   "id": "7b4f8c13",
   "metadata": {},
   "outputs": [],
   "source": []
  }
 ],
 "metadata": {
  "kernelspec": {
   "display_name": "Python 3 (ipykernel)",
   "language": "python",
   "name": "python3"
  },
  "language_info": {
   "codemirror_mode": {
    "name": "ipython",
    "version": 3
   },
   "file_extension": ".py",
   "mimetype": "text/x-python",
   "name": "python",
   "nbconvert_exporter": "python",
   "pygments_lexer": "ipython3",
   "version": "3.11.4"
  }
 },
 "nbformat": 4,
 "nbformat_minor": 5
}
