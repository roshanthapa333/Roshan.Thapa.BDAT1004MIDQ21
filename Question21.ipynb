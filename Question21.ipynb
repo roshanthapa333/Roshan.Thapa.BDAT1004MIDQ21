{
 "cells": [
  {
   "cell_type": "code",
   "execution_count": 2,
   "id": "2fb3ac26",
   "metadata": {},
   "outputs": [],
   "source": [
    "import math"
   ]
  },
  {
   "cell_type": "code",
   "execution_count": 3,
   "id": "67d88e47",
   "metadata": {},
   "outputs": [],
   "source": [
    "class Point:\n",
    "    def __init__(self, x = 0, y = 0):\n",
    "        self.x = x\n",
    "        self.y = y"
   ]
  },
  {
   "cell_type": "code",
   "execution_count": 52,
   "id": "38c25259",
   "metadata": {},
   "outputs": [],
   "source": [
    "class Segment:\n",
    "    def __init__(self, p1, p2):\n",
    "        self.p1 = p1\n",
    "        self.p2 = p2\n",
    "        \n",
    "    def length(self):\n",
    "        x1 = self.p1.x\n",
    "        y1 = self.p1.y\n",
    "        x2 = self.p2.x\n",
    "        y2 = self.p2.y\n",
    "        \n",
    "        point_length = math.sqrt((x2-x1) ** 2 + (y2-y1) ** 2)\n",
    "        return point_length\n",
    "        \n",
    "    def slope(self):\n",
    "        x1 = self.p1.x\n",
    "        y1 = self.p1.y\n",
    "        x2 = self.p2.x\n",
    "        y2 = self.p2.y\n",
    "        \n",
    "        if x2-x1 == 0:\n",
    "            return\n",
    "        else:\n",
    "            return ((y2-y1)/(x2-x1))    "
   ]
  },
  {
   "cell_type": "code",
   "execution_count": 53,
   "id": "e7f15f12",
   "metadata": {},
   "outputs": [],
   "source": [
    "p1 = Point(3,4)"
   ]
  },
  {
   "cell_type": "code",
   "execution_count": 54,
   "id": "8c388a3a",
   "metadata": {},
   "outputs": [],
   "source": [
    "p2 = Point()"
   ]
  },
  {
   "cell_type": "code",
   "execution_count": 55,
   "id": "ab9c4e50",
   "metadata": {},
   "outputs": [],
   "source": [
    "s = Segment(p1,p2)"
   ]
  },
  {
   "cell_type": "code",
   "execution_count": 56,
   "id": "6529d197",
   "metadata": {},
   "outputs": [
    {
     "name": "stdout",
     "output_type": "stream",
     "text": [
      "5.0\n"
     ]
    }
   ],
   "source": [
    "print(s.length())"
   ]
  },
  {
   "cell_type": "code",
   "execution_count": 57,
   "id": "fb37f3af",
   "metadata": {},
   "outputs": [
    {
     "name": "stdout",
     "output_type": "stream",
     "text": [
      "1.3333333333333333\n"
     ]
    }
   ],
   "source": [
    "print(s.slope())"
   ]
  },
  {
   "cell_type": "code",
   "execution_count": null,
   "id": "b495a503",
   "metadata": {},
   "outputs": [],
   "source": []
  }
 ],
 "metadata": {
  "kernelspec": {
   "display_name": "Python 3 (ipykernel)",
   "language": "python",
   "name": "python3"
  },
  "language_info": {
   "codemirror_mode": {
    "name": "ipython",
    "version": 3
   },
   "file_extension": ".py",
   "mimetype": "text/x-python",
   "name": "python",
   "nbconvert_exporter": "python",
   "pygments_lexer": "ipython3",
   "version": "3.11.4"
  }
 },
 "nbformat": 4,
 "nbformat_minor": 5
}
